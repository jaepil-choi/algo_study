{
 "cells": [
  {
   "cell_type": "markdown",
   "metadata": {},
   "source": [
    "# 파트1: 어서와!"
   ]
  },
  {
   "cell_type": "code",
   "execution_count": 6,
   "metadata": {},
   "outputs": [],
   "source": [
    "from matplotlib import pyplot as plt\n",
    "from functools import wraps\n",
    "import time\n",
    "\n",
    "import numpy as np"
   ]
  },
  {
   "cell_type": "code",
   "execution_count": 2,
   "metadata": {},
   "outputs": [],
   "source": [
    "def find_max(length):\n",
    "    length = int(length)\n",
    "    li = list(range(length))\n",
    "    return max(li)"
   ]
  },
  {
   "cell_type": "code",
   "execution_count": 3,
   "metadata": {},
   "outputs": [
    {
     "name": "stdout",
     "output_type": "stream",
     "text": [
      "Wall time: 476 ms\n"
     ]
    },
    {
     "data": {
      "text/plain": [
       "9999999"
      ]
     },
     "execution_count": 3,
     "metadata": {},
     "output_type": "execute_result"
    }
   ],
   "source": [
    "%%time\n",
    "\n",
    "find_max(1e+7)"
   ]
  },
  {
   "cell_type": "code",
   "execution_count": 4,
   "metadata": {},
   "outputs": [
    {
     "name": "stdout",
     "output_type": "stream",
     "text": [
      "Wall time: 5.04 s\n"
     ]
    },
    {
     "data": {
      "text/plain": [
       "99999999"
      ]
     },
     "execution_count": 4,
     "metadata": {},
     "output_type": "execute_result"
    }
   ],
   "source": [
    "%%time\n",
    "\n",
    "find_max(1e+8)"
   ]
  },
  {
   "cell_type": "markdown",
   "metadata": {},
   "source": [
    "## Toy Project \n",
    "\n",
    "Time Complexity wrapper을 만들어본다. \n",
    "\n",
    "어떤 함수든지 wrapper 하나로 time complexity를 plot 해보고 check 해볼 수 있도록. "
   ]
  },
  {
   "cell_type": "markdown",
   "metadata": {},
   "source": [
    "### Plan\n",
    "\n",
    "- func에 사용될 test input을 여러 개 받는다. 가능한 여러 케이스에 대해 받는 것이 좋다. \n",
    "- test input은 함수에 필요한 인자를 모두 가진 kwargs 형태로 받는다. \n",
    "- test input set에서 test하는 cases 수(n)를 늘려가며 얼마나 시간이 걸리나 측정한다. \n",
    "- 이 때, n에 대해 평균 몇 번 시행할 것인지도 설정한다. (또는 아예 n을 촘촘하게 실행하여 확인하는 방법도 있다.) \n",
    "- `max_wait`를 설정하여 time complexity 계산 시 일정 시간 기다리면 꺼지도록 만든다. \n",
    "- 계산 결과를 plot한다. \n",
    "- 계산 결과를 보고 이는 어느 big-O에 해당하는지 확인한다. 즉, 몇 개의 데이터를 가지고 이는 exponential한지, c*n인지, n^2인지 등을 알아낸다. \n",
    "- 최종적으로 이를 module화하여 재사용 가능하게 한다. "
   ]
  },
  {
   "cell_type": "code",
   "execution_count": 5,
   "metadata": {},
   "outputs": [],
   "source": [
    "def time_complexity(func, input_set, max_wait=10,):\n",
    "    @wraps(func)\n",
    "    def wrapper(*args, **kwargs):\n",
    "        result = func(*args, **kwargs)\n",
    "        \n",
    "        return result\n",
    "    \n",
    "    return wrapper"
   ]
  },
  {
   "cell_type": "code",
   "execution_count": 7,
   "metadata": {},
   "outputs": [],
   "source": [
    "def temp_func(n=10):\n",
    "    for i in range(n):\n",
    "        np.random.randint(low=1, high=10000)\n",
    "    return n"
   ]
  },
  {
   "cell_type": "code",
   "execution_count": null,
   "metadata": {},
   "outputs": [],
   "source": []
  }
 ],
 "metadata": {
  "kernelspec": {
   "display_name": "Python 3",
   "language": "python",
   "name": "python3"
  },
  "language_info": {
   "codemirror_mode": {
    "name": "ipython",
    "version": 3
   },
   "file_extension": ".py",
   "mimetype": "text/x-python",
   "name": "python",
   "nbconvert_exporter": "python",
   "pygments_lexer": "ipython3",
   "version": "3.7.7"
  }
 },
 "nbformat": 4,
 "nbformat_minor": 4
}
