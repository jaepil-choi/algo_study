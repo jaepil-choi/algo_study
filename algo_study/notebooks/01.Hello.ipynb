{
 "cells": [
  {
   "cell_type": "markdown",
   "metadata": {},
   "source": [
    "# 파트1: 어서와!"
   ]
  },
  {
   "cell_type": "code",
   "execution_count": 6,
   "metadata": {},
   "outputs": [],
   "source": [
    "from matplotlib import pyplot as plt\n",
    "from functools import wraps\n",
    "import time\n",
    "\n",
    "import numpy as np"
   ]
  },
  {
   "cell_type": "code",
   "execution_count": 2,
   "metadata": {},
   "outputs": [],
   "source": [
    "def find_max(length):\n",
    "    length = int(length)\n",
    "    li = list(range(length))\n",
    "    return max(li)"
   ]
  },
  {
   "cell_type": "code",
   "execution_count": 3,
   "metadata": {},
   "outputs": [
    {
     "name": "stdout",
     "output_type": "stream",
     "text": [
      "Wall time: 476 ms\n"
     ]
    },
    {
     "data": {
      "text/plain": [
       "9999999"
      ]
     },
     "execution_count": 3,
     "metadata": {},
     "output_type": "execute_result"
    }
   ],
   "source": [
    "%%time\n",
    "\n",
    "find_max(1e+7)"
   ]
  },
  {
   "cell_type": "code",
   "execution_count": 4,
   "metadata": {},
   "outputs": [
    {
     "name": "stdout",
     "output_type": "stream",
     "text": [
      "Wall time: 5.04 s\n"
     ]
    },
    {
     "data": {
      "text/plain": [
       "99999999"
      ]
     },
     "execution_count": 4,
     "metadata": {},
     "output_type": "execute_result"
    }
   ],
   "source": [
    "%%time\n",
    "\n",
    "find_max(1e+8)"
   ]
  },
  {
   "cell_type": "markdown",
   "metadata": {},
   "source": [
    "## Toy Project \n",
    "\n",
    "Time Complexity wrapper을 만들어본다. \n",
    "\n",
    "어떤 함수든지 wrapper 하나로 time complexity를 plot 해보고 check 해볼 수 있도록. "
   ]
  },
  {
   "cell_type": "markdown",
   "metadata": {},
   "source": [
    "### Plan\n",
    "\n",
    "- time complexity를 계산할 함수의 n에 해당하는 인자를 미리 받아준다. 그리고 그걸 args/kwargs에서 찾아서 넣어준다. \n",
    "- `max_wait`를 설정하여 time complexity 계산 시 일정 시간 기다리면 꺼지도록 만든다. \n",
    "- 계산 결과를 plot한다. \n",
    "- module화 하여 재사용 가능하게 한다. "
   ]
  },
  {
   "cell_type": "code",
   "execution_count": 5,
   "metadata": {},
   "outputs": [],
   "source": [
    "def time_complexity(func, max_wait=10, n_argname='n'):\n",
    "    @wraps(func)\n",
    "    def wrapper(*args, **kwargs):\n",
    "        if n_argname not in kwargs.keys():\n",
    "            raise Exception('No argument for n in the original function.')\n",
    "        \n",
    "        for ............\n",
    "            kwargs[n_argname] = n\n",
    "            result = func(*args, **kwargs)\n",
    "        return result\n",
    "    \n",
    "    return wrapper"
   ]
  },
  {
   "cell_type": "code",
   "execution_count": 7,
   "metadata": {},
   "outputs": [],
   "source": [
    "def temp_func(n=10):\n",
    "    for i in range(n):\n",
    "        np.random.randint(low=1, high=10000)\n",
    "    return n"
   ]
  },
  {
   "cell_type": "code",
   "execution_count": null,
   "metadata": {},
   "outputs": [],
   "source": []
  }
 ],
 "metadata": {
  "kernelspec": {
   "display_name": "Python 3",
   "language": "python",
   "name": "python3"
  },
  "language_info": {
   "codemirror_mode": {
    "name": "ipython",
    "version": 3
   },
   "file_extension": ".py",
   "mimetype": "text/x-python",
   "name": "python",
   "nbconvert_exporter": "python",
   "pygments_lexer": "ipython3",
   "version": "3.7.7"
  }
 },
 "nbformat": 4,
 "nbformat_minor": 4
}
