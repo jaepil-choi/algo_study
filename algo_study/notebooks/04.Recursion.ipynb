{
 "cells": [
  {
   "cell_type": "markdown",
   "metadata": {},
   "source": [
    "# 4 Recursive Algorithms\n",
    "\n",
    "주어진 문제가 있을 때, 이것을 같은 종류의 보다 쉬운 문제의 답을 이용해 풀 수 있는 성질을 이용해 같은 알고리즘을 반복적으로 적용함으로써 풀어내는 방법. \n",
    "\n",
    "점화식 \n",
    "\n",
    "문제를 재귀적으로 해결하기 위해선 종결조건 (trivial case)를 명시해야 한다. \n",
    "\n",
    "즉, n번째의 일반적인 조건에서 점차 내려와 가장 쉬운 trivial case에 도달하게 되면 종결되어야 한다. \n",
    "\n",
    "이는 매우 중요하다. 알고리즘은 유한한 시간 내에 답을 내야하기 때문이다. "
   ]
  },
  {
   "cell_type": "code",
   "execution_count": 1,
   "metadata": {},
   "outputs": [],
   "source": [
    "def recursive_sum(n):\n",
    "    if n == 1:\n",
    "        return 1\n",
    "    \n",
    "    return n + recursive_sum(n-1)"
   ]
  },
  {
   "cell_type": "code",
   "execution_count": 2,
   "metadata": {},
   "outputs": [
    {
     "data": {
      "text/plain": [
       "55"
      ]
     },
     "execution_count": 2,
     "metadata": {},
     "output_type": "execute_result"
    }
   ],
   "source": [
    "recursive_sum(10)"
   ]
  },
  {
   "cell_type": "markdown",
   "metadata": {},
   "source": [
    "재귀 알고리즘은 사람이 이해하기엔 좋지만 컴퓨터의 성능상으론 좋지 않은 경우가 많다. \n",
    "\n",
    "대개 효율적이지 못하다. "
   ]
  },
  {
   "cell_type": "markdown",
   "metadata": {},
   "source": [
    "### Miniproject \n",
    "\n",
    "시간 측정을 위한 decorator을 만들어보자. \n",
    "\n",
    "time complexity를 측정하는 decorator보다 훨씬 간단할 것이다. \n",
    "\n",
    "#### Plan\n",
    "\n",
    "- `case_l=`로 case를 받는다. \n",
    "- 케이스별로 시간을 출력한다. "
   ]
  },
  {
   "cell_type": "code",
   "execution_count": 3,
   "metadata": {},
   "outputs": [],
   "source": [
    "from functools import wraps, partial\n",
    "import time"
   ]
  },
  {
   "cell_type": "code",
   "execution_count": 4,
   "metadata": {},
   "outputs": [],
   "source": [
    "def time_comparison(case_l: list):\n",
    "#     @wraps(func)\n",
    "    def middle(func):\n",
    "        def wrapper(*args, **kwargs):\n",
    "            for i, case in enumerate(case_l):\n",
    "                start = time.time()\n",
    "                result = func(case)\n",
    "                end = time.time()\n",
    "\n",
    "                print(f'Case {i} took: {end - start} s')\n",
    "            return result\n",
    "        \n",
    "        return wrapper\n",
    "        \n",
    "    return middle"
   ]
  },
  {
   "cell_type": "markdown",
   "metadata": {},
   "source": [
    "#### Recursive vs Loop \n",
    "\n",
    "time comparison"
   ]
  },
  {
   "cell_type": "code",
   "execution_count": 5,
   "metadata": {},
   "outputs": [
    {
     "data": {
      "text/plain": [
       "[10, 100, 1000, 10000, 100000, 1000000, 10000000, 100000000]"
      ]
     },
     "execution_count": 5,
     "metadata": {},
     "output_type": "execute_result"
    }
   ],
   "source": [
    "case_l = [10**x for x in range(1, 9)]\n",
    "case_l"
   ]
  },
  {
   "cell_type": "code",
   "execution_count": 25,
   "metadata": {},
   "outputs": [],
   "source": [
    "@time_comparison(case_l)\n",
    "def recursive_sum(n):\n",
    "    if n == 1:\n",
    "        return 1\n",
    "    \n",
    "    return n + recursive_sum(n-1)"
   ]
  },
  {
   "cell_type": "code",
   "execution_count": null,
   "metadata": {},
   "outputs": [],
   "source": [
    "recursive_sum(10)"
   ]
  },
  {
   "cell_type": "code",
   "execution_count": 6,
   "metadata": {},
   "outputs": [],
   "source": [
    "@time_comparison(case_l)\n",
    "def loop_sum(n):\n",
    "    res = 0\n",
    "    for i in range(n+1):\n",
    "        res += i\n",
    "    \n",
    "    return res"
   ]
  },
  {
   "cell_type": "code",
   "execution_count": 7,
   "metadata": {},
   "outputs": [
    {
     "name": "stdout",
     "output_type": "stream",
     "text": [
      "Case 0 took: 0.0 s\n",
      "Case 1 took: 0.0 s\n",
      "Case 2 took: 0.0 s\n",
      "Case 3 took: 0.0 s\n",
      "Case 4 took: 0.004997968673706055 s\n",
      "Case 5 took: 0.04600214958190918 s\n",
      "Case 6 took: 0.4431126117706299 s\n",
      "Case 7 took: 4.152495622634888 s\n"
     ]
    },
    {
     "data": {
      "text/plain": [
       "5000000050000000"
      ]
     },
     "execution_count": 7,
     "metadata": {},
     "output_type": "execute_result"
    }
   ],
   "source": [
    "loop_sum(10)"
   ]
  },
  {
   "cell_type": "code",
   "execution_count": null,
   "metadata": {},
   "outputs": [],
   "source": []
  }
 ],
 "metadata": {
  "kernelspec": {
   "display_name": "Python 3",
   "language": "python",
   "name": "python3"
  },
  "language_info": {
   "codemirror_mode": {
    "name": "ipython",
    "version": 3
   },
   "file_extension": ".py",
   "mimetype": "text/x-python",
   "name": "python",
   "nbconvert_exporter": "python",
   "pygments_lexer": "ipython3",
   "version": "3.8.5"
  }
 },
 "nbformat": 4,
 "nbformat_minor": 4
}
