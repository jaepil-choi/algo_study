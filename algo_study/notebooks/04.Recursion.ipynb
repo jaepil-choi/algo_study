{
 "cells": [
  {
   "cell_type": "markdown",
   "metadata": {},
   "source": [
    "# 4 Recursive Algorithms\n",
    "\n",
    "주어진 문제가 있을 때, 이것을 같은 종류의 보다 쉬운 문제의 답을 이용해 풀 수 있는 성질을 이용해 같은 알고리즘을 반복적으로 적용함으로써 풀어내는 방법. \n",
    "\n",
    "점화식 \n",
    "\n",
    "문제를 재귀적으로 해결하기 위해선 종결조건 (trivial case)를 명시해야 한다. \n",
    "\n",
    "즉, n번째의 일반적인 조건에서 점차 내려와 가장 쉬운 trivial case에 도달하게 되면 종결되어야 한다. \n",
    "\n",
    "이는 매우 중요하다. 알고리즘은 유한한 시간 내에 답을 내야하기 때문이다. "
   ]
  },
  {
   "cell_type": "code",
   "execution_count": 1,
   "metadata": {},
   "outputs": [],
   "source": [
    "def recursive_sum(n):\n",
    "    if n == 1:\n",
    "        return 1\n",
    "    \n",
    "    return n + recursive_sum(n-1)"
   ]
  },
  {
   "cell_type": "code",
   "execution_count": 2,
   "metadata": {},
   "outputs": [
    {
     "data": {
      "text/plain": [
       "55"
      ]
     },
     "execution_count": 2,
     "metadata": {},
     "output_type": "execute_result"
    }
   ],
   "source": [
    "recursive_sum(10)"
   ]
  },
  {
   "cell_type": "markdown",
   "metadata": {},
   "source": [
    "재귀 알고리즘은 사람이 이해하기엔 좋지만 컴퓨터의 성능상으론 좋지 않은 경우가 많다. \n",
    "\n",
    "대개 효율적이지 못하다. "
   ]
  },
  {
   "cell_type": "markdown",
   "metadata": {},
   "source": [
    "### Miniproject \n",
    "\n",
    "시간 측정을 위한 decorator을 만들어보자. \n",
    "\n",
    "time complexity를 측정하는 decorator보다 훨씬 간단할 것이다. \n",
    "\n",
    "#### Plan\n",
    "\n",
    "- 같은 인풋을 받고 구동방식만 다른 n개의 함수를 가정. \n",
    "- `func_l=`로 함수를 받고 `input_l=`로 case를 받는다. \n",
    "- 케이스별로 시간을 비교해 보여준다. "
   ]
  },
  {
   "cell_type": "code",
   "execution_count": 3,
   "metadata": {},
   "outputs": [],
   "source": [
    "from functools import wraps\n",
    "import time"
   ]
  },
  {
   "cell_type": "code",
   "execution_count": null,
   "metadata": {},
   "outputs": [],
   "source": []
  }
 ],
 "metadata": {
  "kernelspec": {
   "display_name": "Python 3",
   "language": "python",
   "name": "python3"
  },
  "language_info": {
   "codemirror_mode": {
    "name": "ipython",
    "version": 3
   },
   "file_extension": ".py",
   "mimetype": "text/x-python",
   "name": "python",
   "nbconvert_exporter": "python",
   "pygments_lexer": "ipython3",
   "version": "3.8.5"
  }
 },
 "nbformat": 4,
 "nbformat_minor": 4
}
