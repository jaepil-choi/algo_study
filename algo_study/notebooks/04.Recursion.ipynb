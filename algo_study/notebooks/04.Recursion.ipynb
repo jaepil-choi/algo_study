{
 "cells": [
  {
   "cell_type": "markdown",
   "metadata": {},
   "source": [
    "# 4 Recursive Algorithms\n",
    "\n",
    "주어진 문제가 있을 때, 이것을 같은 종류의 보다 쉬운 문제의 답을 이용해 풀 수 있는 성질을 이용해 같은 알고리즘을 반복적으로 적용함으로써 풀어내는 방법. \n",
    "\n",
    "점화식 \n",
    "\n",
    "문제를 재귀적으로 해결하기 위해선 종결조건 (trivial case)를 명시해야 한다. \n",
    "\n",
    "즉, n번째의 일반적인 조건에서 점차 내려와 가장 쉬운 trivial case에 도달하게 되면 종결되어야 한다. \n",
    "\n",
    "이는 매우 중요하다. 알고리즘은 유한한 시간 내에 답을 내야하기 때문이다. "
   ]
  },
  {
   "cell_type": "code",
   "execution_count": 1,
   "metadata": {},
   "outputs": [],
   "source": [
    "def recursive_sum(n):\n",
    "    if n == 1:\n",
    "        return 1\n",
    "    \n",
    "    return n + recursive_sum(n-1)"
   ]
  },
  {
   "cell_type": "code",
   "execution_count": 2,
   "metadata": {},
   "outputs": [
    {
     "data": {
      "text/plain": [
       "55"
      ]
     },
     "execution_count": 2,
     "metadata": {},
     "output_type": "execute_result"
    }
   ],
   "source": [
    "recursive_sum(10)"
   ]
  },
  {
   "cell_type": "markdown",
   "metadata": {},
   "source": [
    "재귀 알고리즘은 사람이 이해하기엔 좋지만 컴퓨터의 성능상으론 좋지 않은 경우가 많다. \n",
    "\n",
    "대개 효율적이지 못하다. "
   ]
  },
  {
   "cell_type": "markdown",
   "metadata": {},
   "source": [
    "### Miniproject \n",
    "\n",
    "시간 측정을 위한 decorator을 만들어보자. \n",
    "\n",
    "time complexity를 측정하는 decorator보다 훨씬 간단할 것이다. \n",
    "\n",
    "#### Plan\n",
    "\n",
    "- `case_l=`로 case를 받는다. \n",
    "- 케이스별로 시간을 출력한다. "
   ]
  },
  {
   "cell_type": "code",
   "execution_count": 21,
   "metadata": {},
   "outputs": [],
   "source": [
    "from functools import wraps, partial\n",
    "import time"
   ]
  },
  {
   "cell_type": "code",
   "execution_count": 44,
   "metadata": {},
   "outputs": [],
   "source": [
    "def time_comparison(func_l, case_l: list):\n",
    "    func2measured_d = {}\n",
    "    for func in func_l:\n",
    "        print(f'Measure time for the function {func.__name__}')\n",
    "        time_l = []\n",
    "        for case in case_l:\n",
    "            start = time.time()\n",
    "            res = func(case)\n",
    "            time_l.append(time.time()-start)\n",
    "            \n",
    "        for case, t in zip(case_l, time_l):\n",
    "            print(f'Input: {case}'.ljust(20, ' ') + f'| Time Measured: {t}')\n",
    "        \n",
    "        func2measured_d[func.__name__] = time_l\n",
    "    \n",
    "    return"
   ]
  },
  {
   "cell_type": "markdown",
   "metadata": {},
   "source": [
    "#### Recursive vs Loop \n",
    "\n",
    "time comparison"
   ]
  },
  {
   "cell_type": "code",
   "execution_count": 63,
   "metadata": {},
   "outputs": [
    {
     "data": {
      "text/plain": [
       "[10, 100, 1000]"
      ]
     },
     "execution_count": 63,
     "metadata": {},
     "output_type": "execute_result"
    }
   ],
   "source": [
    "case_l = [10**x for x in range(1, 4)]\n",
    "case_l"
   ]
  },
  {
   "cell_type": "code",
   "execution_count": 64,
   "metadata": {},
   "outputs": [],
   "source": [
    "def recursive_sum(n):\n",
    "    if n == 1:\n",
    "        return 1\n",
    "    \n",
    "    return n + recursive_sum(n-1)"
   ]
  },
  {
   "cell_type": "code",
   "execution_count": 65,
   "metadata": {},
   "outputs": [
    {
     "data": {
      "text/plain": [
       "55"
      ]
     },
     "execution_count": 65,
     "metadata": {},
     "output_type": "execute_result"
    }
   ],
   "source": [
    "recursive_sum(10)"
   ]
  },
  {
   "cell_type": "code",
   "execution_count": 66,
   "metadata": {},
   "outputs": [],
   "source": [
    "def loop_sum(n):\n",
    "    res = 0\n",
    "    for i in range(n+1):\n",
    "        res += i\n",
    "    \n",
    "    return res"
   ]
  },
  {
   "cell_type": "code",
   "execution_count": 67,
   "metadata": {},
   "outputs": [
    {
     "data": {
      "text/plain": [
       "55"
      ]
     },
     "execution_count": 67,
     "metadata": {},
     "output_type": "execute_result"
    }
   ],
   "source": [
    "loop_sum(10)"
   ]
  },
  {
   "cell_type": "code",
   "execution_count": 68,
   "metadata": {},
   "outputs": [
    {
     "name": "stdout",
     "output_type": "stream",
     "text": [
      "Measure time for the function recursive_sum\n",
      "Input: 10           | Time Measured: 0.0\n",
      "Input: 100          | Time Measured: 0.0\n",
      "Input: 1000         | Time Measured: 0.0\n",
      "Measure time for the function loop_sum\n",
      "Input: 10           | Time Measured: 0.0\n",
      "Input: 100          | Time Measured: 0.0\n",
      "Input: 1000         | Time Measured: 0.0\n"
     ]
    }
   ],
   "source": [
    "time_comparison(func_l=[recursive_sum, loop_sum], case_l=case_l)"
   ]
  },
  {
   "cell_type": "markdown",
   "metadata": {},
   "source": [
    "시간 복잡도로 보면 `recursive_sum`이나 `loop_sum`이나 둘 다 **O(n)**의 복잡도를 가진다. \n",
    "\n",
    "하지만 효율성으로 보면 재귀 알고리즘은 더 많이 함수를 호출해야 하기 때문에 덜 효율적이다. \n",
    "\n",
    "제일 효과적인 sum 알고리즘은 **O(1)** 에 처리할 수 있는 우리가 아는 가우스 방식을 이용한 sum이다. "
   ]
  },
  {
   "cell_type": "code",
   "execution_count": 1,
   "metadata": {},
   "outputs": [],
   "source": [
    "def gauss_sum(n):\n",
    "    return (1 + n)*n/2"
   ]
  },
  {
   "cell_type": "markdown",
   "metadata": {},
   "source": [
    "연습문제 \n",
    "\n",
    "피보나치 순열 재귀적으로, 반복적으로 풀어보기 "
   ]
  },
  {
   "cell_type": "code",
   "execution_count": 3,
   "metadata": {},
   "outputs": [],
   "source": [
    "def solution(x):\n",
    "    if x == 1 or x == 2:\n",
    "        return 1\n",
    "    \n",
    "    return solution(x-1) + solution(x-2)"
   ]
  },
  {
   "cell_type": "code",
   "execution_count": 5,
   "metadata": {},
   "outputs": [],
   "source": [
    "def solution(x):\n",
    "    if x == 1 or x == 2:\n",
    "        return 1\n",
    "    \n",
    "    n_1 = 1\n",
    "    n_2 = 1\n",
    "    n = 2\n",
    "    for i in range(3, x+1):\n",
    "        n = n_1 + n_2\n",
    "        n_1, n_2 = n, n_1\n",
    "    \n",
    "    return n"
   ]
  },
  {
   "cell_type": "code",
   "execution_count": null,
   "metadata": {},
   "outputs": [],
   "source": []
  }
 ],
 "metadata": {
  "kernelspec": {
   "display_name": "Python 3",
   "language": "python",
   "name": "python3"
  },
  "language_info": {
   "codemirror_mode": {
    "name": "ipython",
    "version": 3
   },
   "file_extension": ".py",
   "mimetype": "text/x-python",
   "name": "python",
   "nbconvert_exporter": "python",
   "pygments_lexer": "ipython3",
   "version": "3.8.5"
  }
 },
 "nbformat": 4,
 "nbformat_minor": 4
}
