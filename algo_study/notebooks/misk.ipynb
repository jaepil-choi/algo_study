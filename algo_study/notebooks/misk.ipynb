{
 "cells": [
  {
   "cell_type": "markdown",
   "metadata": {},
   "source": [
    "# MISK\n"
   ]
  },
  {
   "cell_type": "markdown",
   "metadata": {},
   "source": [
    "## AI Tech Boostcamp sample question\n",
    "\n",
    "naver, upstage"
   ]
  },
  {
   "cell_type": "code",
   "execution_count": 16,
   "metadata": {},
   "outputs": [],
   "source": [
    "def solution(v):\n",
    "    answer = []\n",
    "    \n",
    "    d1, d2, d3 = v\n",
    "    x1, y1 = d1\n",
    "    x2, y2 = d2\n",
    "    x3, y3 = d3\n",
    "    \n",
    "    x_l = [x1, x2, x3]\n",
    "    y_l = [y1, y2, y3]\n",
    "    \n",
    "    def count_dot(d):\n",
    "        x, y = d\n",
    "        x_count = x_l.count(x)\n",
    "        y_count = y_l.count(y)\n",
    "        \n",
    "        return (x_count, y_count)\n",
    "    \n",
    "    count_d = {d:count_dot(d) for d in v}\n",
    "    \n",
    "    ans = (None, None)\n",
    "    for d, t in count_d.items():\n",
    "        if t[0] == 2 and t[1] == 1:\n",
    "            ans[1] = t[1]\n",
    "        elif t[0] == 1 and t[1] == 2:\n",
    "            ans[0] = t[0]\n",
    "        else:\n",
    "            print('It is B')\n",
    "            pass\n",
    "\n",
    "    return ans"
   ]
  }
 ],
 "metadata": {
  "kernelspec": {
   "display_name": "Python 3",
   "language": "python",
   "name": "python3"
  },
  "language_info": {
   "codemirror_mode": {
    "name": "ipython",
    "version": 3
   },
   "file_extension": ".py",
   "mimetype": "text/x-python",
   "name": "python",
   "nbconvert_exporter": "python",
   "pygments_lexer": "ipython3",
   "version": "3.8.5"
  }
 },
 "nbformat": 4,
 "nbformat_minor": 4
}
