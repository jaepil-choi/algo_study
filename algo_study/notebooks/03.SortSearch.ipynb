{
 "cells": [
  {
   "cell_type": "markdown",
   "metadata": {},
   "source": [
    "# 3 Sorting & Searching"
   ]
  },
  {
   "cell_type": "markdown",
   "metadata": {},
   "source": [
    "## 3.1 Sorting"
   ]
  },
  {
   "cell_type": "code",
   "execution_count": 6,
   "metadata": {},
   "outputs": [],
   "source": [
    "li = [1,6,3,7,8,3,4,5,4]"
   ]
  },
  {
   "cell_type": "code",
   "execution_count": 7,
   "metadata": {},
   "outputs": [
    {
     "data": {
      "text/plain": [
       "[1, 3, 3, 4, 4, 5, 6, 7, 8]"
      ]
     },
     "execution_count": 7,
     "metadata": {},
     "output_type": "execute_result"
    }
   ],
   "source": [
    "sorted(li, reverse=False)"
   ]
  },
  {
   "cell_type": "code",
   "execution_count": 8,
   "metadata": {},
   "outputs": [
    {
     "data": {
      "text/plain": [
       "[1, 6, 3, 7, 8, 3, 4, 5, 4]"
      ]
     },
     "execution_count": 8,
     "metadata": {},
     "output_type": "execute_result"
    }
   ],
   "source": [
    "li"
   ]
  },
  {
   "cell_type": "code",
   "execution_count": 9,
   "metadata": {},
   "outputs": [],
   "source": [
    "li = [1,6,3,7,8,3,4,5,4]"
   ]
  },
  {
   "cell_type": "code",
   "execution_count": 10,
   "metadata": {},
   "outputs": [],
   "source": [
    "li.sort(reverse=False)"
   ]
  },
  {
   "cell_type": "code",
   "execution_count": 11,
   "metadata": {},
   "outputs": [
    {
     "data": {
      "text/plain": [
       "[1, 3, 3, 4, 4, 5, 6, 7, 8]"
      ]
     },
     "execution_count": 11,
     "metadata": {},
     "output_type": "execute_result"
    }
   ],
   "source": [
    "li"
   ]
  },
  {
   "cell_type": "markdown",
   "metadata": {},
   "source": [
    "문자열\n",
    "\n",
    "문자열은 ascii 번호를 통해 정렬된다. \n",
    "\n",
    "문자열 길이를 통해 정렬하고 싶으면 `key`를 이용하면 된다. \n",
    "\n",
    "`key`로 지정하지 않은 경우 원래의 순서를 유지한다. (`foo`와 `egg`의 경우를 참고) \n",
    "\n",
    "multiple key를 통해 정렬하고 싶으면 `key`가 tuple을 반환하게 해주면 된다.\n",
    "\n",
    "Python에서 string의 비교는 `ord()`를 앞에서부터 수행해 이루어진다. 즉, 앞에서부터 문자열의 int value를 비교하여 비교한다. "
   ]
  },
  {
   "cell_type": "code",
   "execution_count": 40,
   "metadata": {},
   "outputs": [
    {
     "data": {
      "text/plain": [
       "['a', 'go', 'foo', 'egg', 'abc', 'Abc', 'cake', 'computer']"
      ]
     },
     "execution_count": 40,
     "metadata": {},
     "output_type": "execute_result"
    }
   ],
   "source": [
    "li = ['foo', 'egg', 'abc', 'Abc', 'cake', 'go', 'a', 'computer']\n",
    "sorted(li, reverse=False, key=lambda x: len(x))"
   ]
  },
  {
   "cell_type": "code",
   "execution_count": 41,
   "metadata": {},
   "outputs": [
    {
     "data": {
      "text/plain": [
       "['a', 'go', 'egg', 'foo', 'abc', 'Abc', 'cake', 'computer']"
      ]
     },
     "execution_count": 41,
     "metadata": {},
     "output_type": "execute_result"
    }
   ],
   "source": [
    "li = ['egg', 'foo', 'abc', 'Abc', 'cake', 'go', 'a', 'computer']\n",
    "sorted(li, reverse=False, key=lambda x: len(x))"
   ]
  },
  {
   "cell_type": "code",
   "execution_count": 42,
   "metadata": {},
   "outputs": [
    {
     "data": {
      "text/plain": [
       "['a', 'go', 'Abc', 'abc', 'egg', 'foo', 'cake', 'computer']"
      ]
     },
     "execution_count": 42,
     "metadata": {},
     "output_type": "execute_result"
    }
   ],
   "source": [
    "li = ['egg', 'foo', 'abc', 'Abc', 'cake', 'go', 'a', 'computer']\n",
    "sorted(li, reverse=False, key=lambda x: (len(x), x))"
   ]
  },
  {
   "cell_type": "code",
   "execution_count": 43,
   "metadata": {},
   "outputs": [
    {
     "data": {
      "text/plain": [
       "97"
      ]
     },
     "execution_count": 43,
     "metadata": {},
     "output_type": "execute_result"
    }
   ],
   "source": [
    "ord('a')"
   ]
  },
  {
   "cell_type": "code",
   "execution_count": 35,
   "metadata": {},
   "outputs": [
    {
     "data": {
      "text/plain": [
       "65"
      ]
     },
     "execution_count": 35,
     "metadata": {},
     "output_type": "execute_result"
    }
   ],
   "source": [
    "ord('A')"
   ]
  },
  {
   "cell_type": "code",
   "execution_count": 45,
   "metadata": {},
   "outputs": [
    {
     "data": {
      "text/plain": [
       "'A'"
      ]
     },
     "execution_count": 45,
     "metadata": {},
     "output_type": "execute_result"
    }
   ],
   "source": [
    "# 반대로 int --> str 하고 싶으면, \n",
    "chr(65)"
   ]
  },
  {
   "cell_type": "markdown",
   "metadata": {},
   "source": [
    "## 3.2 Searching"
   ]
  },
  {
   "cell_type": "markdown",
   "metadata": {},
   "source": [
    "### 3.2.1 Linear Search 선형 탐색"
   ]
  },
  {
   "cell_type": "markdown",
   "metadata": {},
   "source": [
    "리스트 처음부터 찾아나간다. 리스트의 길이에 비례하는 시간이 소요된다. \n",
    "\n",
    "**O(n)**\n",
    "\n",
    "최악의 경우 모든 원소를 다 비교해봐야 한다. "
   ]
  },
  {
   "cell_type": "markdown",
   "metadata": {},
   "source": [
    "### 3.2.1 Binary Search 이진 탐색"
   ]
  },
  {
   "cell_type": "markdown",
   "metadata": {},
   "source": [
    "이미 정렬되어 있는 경우에만 사용 가능. 정렬되어 있는 경우 반씩 계속 나눠가며 up/down으로 찾는 것. \n",
    "\n",
    "한 번 비교할 때마다 리스트가 반으로 준다. (divide and conquer) \n",
    "\n",
    "리스트에 n개가 있다면 1번 찾으면 `n/2`가 남고, 2번 찾으면 `n/4`가 남고... 그렇게 된다.  n번째 시행에선 `n/2**(n)`이 남는데, 이게 1이 되어야 한다. 따라서 n = `log(n, 2)`이 된다. \n",
    "\n",
    "**O(log n)** 이다. "
   ]
  },
  {
   "cell_type": "markdown",
   "metadata": {},
   "source": [
    "#### 이진탐색 코드의 구현\n",
    "\n",
    "`FixedArray`가 굳이 필요하지 않았다. 어차피 재귀를 돌면서 index 잃어버리는건 똑같았다. "
   ]
  },
  {
   "cell_type": "code",
   "execution_count": 1,
   "metadata": {},
   "outputs": [],
   "source": [
    "def binary_search_wrapper(li, x):\n",
    "    lower = 0\n",
    "    upper = len(li) - 1\n",
    "    \n",
    "    def binary_search(temp_li, x):\n",
    "        nonlocal lower, upper\n",
    "        middle = int((lower+upper)/2) # 내림\n",
    "\n",
    "        if x == li[middle]:\n",
    "            print('Binary Search successful.')\n",
    "            return middle\n",
    "        elif x < li[middle]:\n",
    "            print(li[:middle])\n",
    "            upper = middle\n",
    "            return binary_search(li[:upper], x)\n",
    "        else:\n",
    "            print(li[middle+1:])\n",
    "            lower = middle+1\n",
    "            return binary_search(li[lower:], x)\n",
    "    \n",
    "    return binary_search(li, x)"
   ]
  },
  {
   "cell_type": "code",
   "execution_count": 2,
   "metadata": {},
   "outputs": [
    {
     "data": {
      "text/plain": [
       "[0, 1, 2, 2, 2, 3, 4, 5, 5, 6, 8, 9]"
      ]
     },
     "execution_count": 2,
     "metadata": {},
     "output_type": "execute_result"
    }
   ],
   "source": [
    "li = sorted([2,6,8,5,4,1,2,0,9,2,3,5])\n",
    "li"
   ]
  },
  {
   "cell_type": "code",
   "execution_count": 5,
   "metadata": {},
   "outputs": [
    {
     "name": "stdout",
     "output_type": "stream",
     "text": [
      "[4, 5, 5, 6, 8, 9]\n",
      "Binary Search successful.\n"
     ]
    },
    {
     "data": {
      "text/plain": [
       "8"
      ]
     },
     "execution_count": 5,
     "metadata": {},
     "output_type": "execute_result"
    }
   ],
   "source": [
    "binary_search_wrapper(li, 5)"
   ]
  },
  {
   "cell_type": "code",
   "execution_count": 6,
   "metadata": {},
   "outputs": [
    {
     "data": {
      "text/plain": [
       "7"
      ]
     },
     "execution_count": 6,
     "metadata": {},
     "output_type": "execute_result"
    }
   ],
   "source": [
    "li.index(5)"
   ]
  },
  {
   "cell_type": "markdown",
   "metadata": {},
   "source": [
    "수가 연속되어 있을 경우 문제가 발생한다. \n",
    "\n",
    "가장 첫번째의 index를 반환해주지 않고 `middle`에 있는 것을 반환한다. "
   ]
  },
  {
   "cell_type": "code",
   "execution_count": 44,
   "metadata": {},
   "outputs": [],
   "source": [
    "def solution(L, x):\n",
    "    lower = 0\n",
    "    upper = len(L) - 1\n",
    "    \n",
    "#     l = L.copy() # copy하는 것은 큰 병목을 일으킨다. 리스트가 길어질 때 쓰지 말아야 한다.  \n",
    "    while lower < upper:\n",
    "        middle = (lower + upper) // 2\n",
    "        print(middle)\n",
    "        print(L[lower:upper])\n",
    "        if x == L[middle]:\n",
    "            answer = middle\n",
    "            break\n",
    "        elif x < L[middle]:\n",
    "            upper = middle\n",
    "        else:\n",
    "            lower = middle+1\n",
    "    else: # while도 else 붙일 수 있다. \n",
    "        answer = -1\n",
    "    \n",
    "    if answer != -1:\n",
    "        for idx in range(answer, 0, -1):\n",
    "            if L[idx-1] == L[answer]:\n",
    "                continue\n",
    "            else:\n",
    "                return idx\n",
    "    \n",
    "    return answer"
   ]
  },
  {
   "cell_type": "markdown",
   "metadata": {},
   "source": [
    "`while`도 `else`를 가질 수 있고 \n",
    "\n",
    "`for`도 `else`를 가질 수 있다. \n",
    "\n",
    "`break`할 때 변수를 assign하는 식으로 유용하게 활용할 수 있다. "
   ]
  },
  {
   "cell_type": "code",
   "execution_count": 45,
   "metadata": {},
   "outputs": [
    {
     "name": "stdout",
     "output_type": "stream",
     "text": [
      "3\n",
      "[2, 3, 5, 6, 9, 11]\n"
     ]
    },
    {
     "data": {
      "text/plain": [
       "3"
      ]
     },
     "execution_count": 45,
     "metadata": {},
     "output_type": "execute_result"
    }
   ],
   "source": [
    "solution([2, 3, 5, 6, 9, 11, 15], 6)"
   ]
  },
  {
   "cell_type": "code",
   "execution_count": 46,
   "metadata": {},
   "outputs": [
    {
     "name": "stdout",
     "output_type": "stream",
     "text": [
      "2\n",
      "[2, 5, 7, 9]\n",
      "1\n",
      "[2, 5]\n",
      "0\n",
      "[2]\n"
     ]
    },
    {
     "data": {
      "text/plain": [
       "-1"
      ]
     },
     "execution_count": 46,
     "metadata": {},
     "output_type": "execute_result"
    }
   ],
   "source": [
    "solution([2, 5, 7, 9, 11], 4)"
   ]
  },
  {
   "cell_type": "markdown",
   "metadata": {},
   "source": [
    "문제를 다시 풀며 꼭 재귀를 할 필요 없이 while을 쓰면 쉽게 잘라낸 리스트를 새로 할당하지 않고도 풀 수 있음을 알수 있었다. \n",
    "\n",
    "또한, 중간에 `.copy()`를 하는 것은 큰 병목을 불러일으키므로 주의하자. \n",
    "\n",
    "위에서 `while`-`else`를 활용하여 첫 번째 occurrence를 찾는 것도 해결하였다. "
   ]
  },
  {
   "cell_type": "code",
   "execution_count": 47,
   "metadata": {},
   "outputs": [
    {
     "name": "stdout",
     "output_type": "stream",
     "text": [
      "5\n",
      "[0, 1, 2, 2, 2, 3, 4, 5, 5, 6, 8]\n",
      "8\n",
      "[4, 5, 5, 6, 8]\n"
     ]
    },
    {
     "data": {
      "text/plain": [
       "7"
      ]
     },
     "execution_count": 47,
     "metadata": {},
     "output_type": "execute_result"
    }
   ],
   "source": [
    "solution(li, 5)"
   ]
  },
  {
   "cell_type": "code",
   "execution_count": 48,
   "metadata": {},
   "outputs": [
    {
     "data": {
      "text/plain": [
       "7"
      ]
     },
     "execution_count": 48,
     "metadata": {},
     "output_type": "execute_result"
    }
   ],
   "source": [
    "li.index(5)"
   ]
  },
  {
   "cell_type": "code",
   "execution_count": null,
   "metadata": {},
   "outputs": [],
   "source": []
  }
 ],
 "metadata": {
  "kernelspec": {
   "display_name": "Python 3",
   "language": "python",
   "name": "python3"
  },
  "language_info": {
   "codemirror_mode": {
    "name": "ipython",
    "version": 3
   },
   "file_extension": ".py",
   "mimetype": "text/x-python",
   "name": "python",
   "nbconvert_exporter": "python",
   "pygments_lexer": "ipython3",
   "version": "3.8.5"
  }
 },
 "nbformat": 4,
 "nbformat_minor": 4
}
