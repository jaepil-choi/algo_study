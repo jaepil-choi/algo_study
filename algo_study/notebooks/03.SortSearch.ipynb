{
 "cells": [
  {
   "cell_type": "markdown",
   "metadata": {},
   "source": [
    "# 3 Sorting & Searching"
   ]
  },
  {
   "cell_type": "markdown",
   "metadata": {},
   "source": [
    "## 3.1 Sorting"
   ]
  },
  {
   "cell_type": "code",
   "execution_count": 6,
   "metadata": {},
   "outputs": [],
   "source": [
    "li = [1,6,3,7,8,3,4,5,4]"
   ]
  },
  {
   "cell_type": "code",
   "execution_count": 7,
   "metadata": {},
   "outputs": [
    {
     "data": {
      "text/plain": [
       "[1, 3, 3, 4, 4, 5, 6, 7, 8]"
      ]
     },
     "execution_count": 7,
     "metadata": {},
     "output_type": "execute_result"
    }
   ],
   "source": [
    "sorted(li, reverse=False)"
   ]
  },
  {
   "cell_type": "code",
   "execution_count": 8,
   "metadata": {},
   "outputs": [
    {
     "data": {
      "text/plain": [
       "[1, 6, 3, 7, 8, 3, 4, 5, 4]"
      ]
     },
     "execution_count": 8,
     "metadata": {},
     "output_type": "execute_result"
    }
   ],
   "source": [
    "li"
   ]
  },
  {
   "cell_type": "code",
   "execution_count": 9,
   "metadata": {},
   "outputs": [],
   "source": [
    "li = [1,6,3,7,8,3,4,5,4]"
   ]
  },
  {
   "cell_type": "code",
   "execution_count": 10,
   "metadata": {},
   "outputs": [],
   "source": [
    "li.sort(reverse=False)"
   ]
  },
  {
   "cell_type": "code",
   "execution_count": 11,
   "metadata": {},
   "outputs": [
    {
     "data": {
      "text/plain": [
       "[1, 3, 3, 4, 4, 5, 6, 7, 8]"
      ]
     },
     "execution_count": 11,
     "metadata": {},
     "output_type": "execute_result"
    }
   ],
   "source": [
    "li"
   ]
  },
  {
   "cell_type": "markdown",
   "metadata": {},
   "source": [
    "문자열\n",
    "\n",
    "문자열은 ascii 번호를 통해 정렬된다. \n",
    "\n",
    "문자열 길이를 통해 정렬하고 싶으면 `key`를 이용하면 된다. \n",
    "\n",
    "`key`로 지정하지 않은 경우 원래의 순서를 유지한다. (`foo`와 `egg`의 경우를 참고) \n",
    "\n",
    "multiple key를 통해 정렬하고 싶으면 `key`가 tuple을 반환하게 해주면 된다.\n",
    "\n",
    "Python에서 string의 비교는 `ord()`를 앞에서부터 수행해 이루어진다. 즉, 앞에서부터 문자열의 int value를 비교하여 비교한다. "
   ]
  },
  {
   "cell_type": "code",
   "execution_count": 40,
   "metadata": {},
   "outputs": [
    {
     "data": {
      "text/plain": [
       "['a', 'go', 'foo', 'egg', 'abc', 'Abc', 'cake', 'computer']"
      ]
     },
     "execution_count": 40,
     "metadata": {},
     "output_type": "execute_result"
    }
   ],
   "source": [
    "li = ['foo', 'egg', 'abc', 'Abc', 'cake', 'go', 'a', 'computer']\n",
    "sorted(li, reverse=False, key=lambda x: len(x))"
   ]
  },
  {
   "cell_type": "code",
   "execution_count": 41,
   "metadata": {},
   "outputs": [
    {
     "data": {
      "text/plain": [
       "['a', 'go', 'egg', 'foo', 'abc', 'Abc', 'cake', 'computer']"
      ]
     },
     "execution_count": 41,
     "metadata": {},
     "output_type": "execute_result"
    }
   ],
   "source": [
    "li = ['egg', 'foo', 'abc', 'Abc', 'cake', 'go', 'a', 'computer']\n",
    "sorted(li, reverse=False, key=lambda x: len(x))"
   ]
  },
  {
   "cell_type": "code",
   "execution_count": 42,
   "metadata": {},
   "outputs": [
    {
     "data": {
      "text/plain": [
       "['a', 'go', 'Abc', 'abc', 'egg', 'foo', 'cake', 'computer']"
      ]
     },
     "execution_count": 42,
     "metadata": {},
     "output_type": "execute_result"
    }
   ],
   "source": [
    "li = ['egg', 'foo', 'abc', 'Abc', 'cake', 'go', 'a', 'computer']\n",
    "sorted(li, reverse=False, key=lambda x: (len(x), x))"
   ]
  },
  {
   "cell_type": "code",
   "execution_count": 43,
   "metadata": {},
   "outputs": [
    {
     "data": {
      "text/plain": [
       "97"
      ]
     },
     "execution_count": 43,
     "metadata": {},
     "output_type": "execute_result"
    }
   ],
   "source": [
    "ord('a')"
   ]
  },
  {
   "cell_type": "code",
   "execution_count": 35,
   "metadata": {},
   "outputs": [
    {
     "data": {
      "text/plain": [
       "65"
      ]
     },
     "execution_count": 35,
     "metadata": {},
     "output_type": "execute_result"
    }
   ],
   "source": [
    "ord('A')"
   ]
  },
  {
   "cell_type": "code",
   "execution_count": 45,
   "metadata": {},
   "outputs": [
    {
     "data": {
      "text/plain": [
       "'A'"
      ]
     },
     "execution_count": 45,
     "metadata": {},
     "output_type": "execute_result"
    }
   ],
   "source": [
    "# 반대로 int --> str 하고 싶으면, \n",
    "chr(65)"
   ]
  },
  {
   "cell_type": "markdown",
   "metadata": {},
   "source": [
    "## 3.2 Searching"
   ]
  },
  {
   "cell_type": "markdown",
   "metadata": {},
   "source": [
    "### 3.2.1 Linear Search 선형 탐색"
   ]
  },
  {
   "cell_type": "markdown",
   "metadata": {},
   "source": [
    "리스트 처음부터 찾아나간다. 리스트의 길이에 비례하는 시간이 소요된다. \n",
    "\n",
    "**O(n)**\n",
    "\n",
    "최악의 경우 모든 원소를 다 비교해봐야 한다. "
   ]
  },
  {
   "cell_type": "markdown",
   "metadata": {},
   "source": [
    "### 3.2.1 Binary Search 이진 탐색"
   ]
  },
  {
   "cell_type": "markdown",
   "metadata": {},
   "source": [
    "이미 정렬되어 있는 경우에만 사용 가능. 정렬되어 있는 경우 반씩 계속 나눠가며 up/down으로 찾는 것. \n",
    "\n",
    "한 번 비교할 때마다 리스트가 반으로 준다. (divide and conquer) \n",
    "\n",
    "리스트에 n개가 있다면 1번 찾으면 `n/2`가 남고, 2번 찾으면 `n/4`가 남고... 그렇게 된다.  n번째 시행에선 `n/2**(n)`이 남는데, 이게 1이 되어야 한다. 따라서 n = `log(n, 2)`이 된다. \n",
    "\n",
    "**O(log n)** 이다. "
   ]
  },
  {
   "cell_type": "markdown",
   "metadata": {},
   "source": [
    "#### 이진탐색 코드의 구현"
   ]
  },
  {
   "cell_type": "code",
   "execution_count": 44,
   "metadata": {},
   "outputs": [],
   "source": [
    "# dirty import \n",
    "\n",
    "from pathlib import Path\n",
    "import sys"
   ]
  },
  {
   "cell_type": "code",
   "execution_count": 43,
   "metadata": {},
   "outputs": [
    {
     "data": {
      "text/plain": [
       "WindowsPath('E:/VSCodeProjects/algo_study/miniprojects')"
      ]
     },
     "execution_count": 43,
     "metadata": {},
     "output_type": "execute_result"
    }
   ],
   "source": [
    "p = Path.cwd()\n",
    "p = p.parent.parent / 'miniprojects'\n",
    "p"
   ]
  },
  {
   "cell_type": "code",
   "execution_count": 56,
   "metadata": {},
   "outputs": [],
   "source": [
    "sys.path.append(p.as_posix())"
   ]
  },
  {
   "cell_type": "code",
   "execution_count": 57,
   "metadata": {},
   "outputs": [
    {
     "data": {
      "text/plain": [
       "['E:\\\\VSCodeProjects\\\\algo_study\\\\algo_study\\\\notebooks',\n",
       " 'C:\\\\Users\\\\chlje\\\\anaconda3\\\\envs\\\\sandbox38\\\\python38.zip',\n",
       " 'C:\\\\Users\\\\chlje\\\\anaconda3\\\\envs\\\\sandbox38\\\\DLLs',\n",
       " 'C:\\\\Users\\\\chlje\\\\anaconda3\\\\envs\\\\sandbox38\\\\lib',\n",
       " 'C:\\\\Users\\\\chlje\\\\anaconda3\\\\envs\\\\sandbox38',\n",
       " '',\n",
       " 'C:\\\\Users\\\\chlje\\\\AppData\\\\Roaming\\\\Python\\\\Python38\\\\site-packages',\n",
       " 'C:\\\\Users\\\\chlje\\\\anaconda3\\\\envs\\\\sandbox38\\\\lib\\\\site-packages',\n",
       " 'C:\\\\Users\\\\chlje\\\\anaconda3\\\\envs\\\\sandbox38\\\\lib\\\\site-packages\\\\win32',\n",
       " 'C:\\\\Users\\\\chlje\\\\anaconda3\\\\envs\\\\sandbox38\\\\lib\\\\site-packages\\\\win32\\\\lib',\n",
       " 'C:\\\\Users\\\\chlje\\\\anaconda3\\\\envs\\\\sandbox38\\\\lib\\\\site-packages\\\\Pythonwin',\n",
       " 'C:\\\\Users\\\\chlje\\\\anaconda3\\\\envs\\\\sandbox38\\\\lib\\\\site-packages\\\\IPython\\\\extensions',\n",
       " 'C:\\\\Users\\\\chlje\\\\.ipython',\n",
       " WindowsPath('E:/VSCodeProjects/algo_study/miniprojects'),\n",
       " 'E:/VSCodeProjects/algo_study/miniprojects']"
      ]
     },
     "execution_count": 57,
     "metadata": {},
     "output_type": "execute_result"
    }
   ],
   "source": [
    "sys.path"
   ]
  },
  {
   "cell_type": "code",
   "execution_count": 59,
   "metadata": {},
   "outputs": [],
   "source": [
    "from data_structure import FixedArray"
   ]
  },
  {
   "cell_type": "code",
   "execution_count": 63,
   "metadata": {},
   "outputs": [],
   "source": [
    "def binary_search(li, x):\n",
    "    middle = int(len(li)/2) # 내림\n",
    "    \n",
    "    if x == li[middle]:\n",
    "        print('Binary Search successful.')\n",
    "        return middle\n",
    "    elif x < li[middle]:\n",
    "        li = li[:middle]\n",
    "        print(li)\n",
    "        return binary_search(li, x)\n",
    "    else:\n",
    "        li = li[middle:]\n",
    "        print(li)\n",
    "        return binary_search(li, x)"
   ]
  },
  {
   "cell_type": "code",
   "execution_count": 64,
   "metadata": {},
   "outputs": [
    {
     "data": {
      "text/plain": [
       "[1, 2, 2, 3, 4, 4, 5, 5, 6, 7, 7, 8, 8, 9, 9]"
      ]
     },
     "execution_count": 64,
     "metadata": {},
     "output_type": "execute_result"
    }
   ],
   "source": [
    "li = [2,5,7,9,4,1,2,7,5,8,4,3,6,8,9]\n",
    "li.sort()\n",
    "li"
   ]
  },
  {
   "cell_type": "code",
   "execution_count": 65,
   "metadata": {},
   "outputs": [
    {
     "name": "stdout",
     "output_type": "stream",
     "text": [
      "[5, 6, 7, 7, 8, 8, 9, 9]\n",
      "[5, 6, 7, 7]\n",
      "[5, 6]\n",
      "Binary Search successful.\n"
     ]
    },
    {
     "data": {
      "text/plain": [
       "1"
      ]
     },
     "execution_count": 65,
     "metadata": {},
     "output_type": "execute_result"
    }
   ],
   "source": [
    "binary_search(li, 6)"
   ]
  },
  {
   "cell_type": "code",
   "execution_count": null,
   "metadata": {},
   "outputs": [],
   "source": []
  }
 ],
 "metadata": {
  "kernelspec": {
   "display_name": "Python 3",
   "language": "python",
   "name": "python3"
  },
  "language_info": {
   "codemirror_mode": {
    "name": "ipython",
    "version": 3
   },
   "file_extension": ".py",
   "mimetype": "text/x-python",
   "name": "python",
   "nbconvert_exporter": "python",
   "pygments_lexer": "ipython3",
   "version": "3.8.5"
  }
 },
 "nbformat": 4,
 "nbformat_minor": 4
}
